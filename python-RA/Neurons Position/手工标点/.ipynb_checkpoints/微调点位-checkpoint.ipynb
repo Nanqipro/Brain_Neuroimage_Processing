{
 "cells": [
  {
   "cell_type": "code",
   "id": "initial_id",
   "metadata": {
    "collapsed": true,
    "ExecuteTime": {
     "end_time": "2024-12-19T06:35:06.243403Z",
     "start_time": "2024-12-19T06:35:05.513535Z"
    }
   },
   "source": [
    "import pandas as pd\n",
    "import numpy as np\n",
    "import networkx as nx\n",
    "import plotly.graph_objects as go\n",
    "import itertools\n",
    "from tqdm import tqdm\n",
    "import warnings\n",
    "import matplotlib.cm as cm\n",
    "import matplotlib\n",
    "import base64\n",
    "from ipywidgets import interact, FloatSlider\n",
    "\n",
    "warnings.filterwarnings('ignore')\n",
    "import plotly.io as pio\n",
    "pio.templates.default = (\"plotly\")\n",
    "\n",
    "# ...这里是你的数据读取和图像生成代码（不包含add_layout_image部分）...\n",
    "# 假设此时已经有一个 fig 对象（不包含背景图）\n",
    "\n",
    "# 准备图片的base64编码\n",
    "image_path = r'C:\\Users\\PAN\\PycharmProjects\\GitHub\\python-RA\\Neurons Position\\240924EM\\240924EM.jpg'\n",
    "with open(image_path, \"rb\") as f:\n",
    "    image_data = f.read()\n",
    "encoded_image = base64.b64encode(image_data).decode(\"ascii\")\n",
    "image_source = \"data:image/jpg;base64,\" + encoded_image\n",
    "\n",
    "def update_image(x, y, sizex, sizey, opacity):\n",
    "    # 每次update都先清理掉已有的图片层\n",
    "    fig.layout.images = ()\n",
    "    fig.add_layout_image(\n",
    "        dict(\n",
    "            source=image_source,\n",
    "            xref='paper',\n",
    "            yref='paper',\n",
    "            x=x,\n",
    "            y=y,\n",
    "            sizex=sizex,\n",
    "            sizey=sizey,\n",
    "            xanchor='left',\n",
    "            yanchor='top',\n",
    "            opacity=opacity,\n",
    "            layer='below'\n",
    "        )\n",
    "    )\n",
    "    fig.show()\n",
    "\n",
    "# 创建滑块来微调参数\n",
    "interact(update_image,\n",
    "         x=FloatSlider(value=0, min=-0.5, max=1.5, step=0.01, description='x偏移'),\n",
    "         y=FloatSlider(value=1, min=-0.5, max=1.5, step=0.01, description='y偏移'),\n",
    "         sizex=FloatSlider(value=1, min=0.1, max=2, step=0.01, description='sizex'),\n",
    "         sizey=FloatSlider(value=1, min=0.1, max=2, step=0.01, description='sizey'),\n",
    "         opacity=FloatSlider(value=0.5, min=0.0, max=1.0, step=0.05, description='不透明度')\n",
    "        )\n"
   ],
   "outputs": [
    {
     "data": {
      "text/plain": [
       "interactive(children=(FloatSlider(value=0.0, description='x偏移', max=1.5, min=-0.5, step=0.01), FloatSlider(val…"
      ],
      "application/vnd.jupyter.widget-view+json": {
       "version_major": 2,
       "version_minor": 0,
       "model_id": "58dd6a7637d64a57ae2e515289b26bb2"
      }
     },
     "metadata": {},
     "output_type": "display_data"
    },
    {
     "data": {
      "text/plain": [
       "<function __main__.update_image(x, y, sizex, sizey, opacity)>"
      ]
     },
     "execution_count": 1,
     "metadata": {},
     "output_type": "execute_result"
    }
   ],
   "execution_count": 1
  },
  {
   "metadata": {},
   "cell_type": "code",
   "outputs": [],
   "execution_count": null,
   "source": "",
   "id": "41aed05ae4eb0985"
  }
 ],
 "metadata": {
  "kernelspec": {
   "display_name": "Python 3",
   "language": "python",
   "name": "python3"
  },
  "language_info": {
   "codemirror_mode": {
    "name": "ipython",
    "version": 2
   },
   "file_extension": ".py",
   "mimetype": "text/x-python",
   "name": "python",
   "nbconvert_exporter": "python",
   "pygments_lexer": "ipython2",
   "version": "2.7.6"
  }
 },
 "nbformat": 4,
 "nbformat_minor": 5
}
